{
 "cells": [
  {
   "cell_type": "markdown",
   "metadata": {},
   "source": [
    "# Classification Models"
   ]
  },
  {
   "cell_type": "code",
   "execution_count": 1,
   "metadata": {},
   "outputs": [],
   "source": [
    "import numpy as np\n",
    "import pandas as pd\n",
    "\n",
    "from sklearn.model_selection import train_test_split\n",
    "from sklearn.linear_model import LogisticRegression\n",
    "from sklearn.metrics import classification_report\n",
    "from sklearn.metrics import confusion_matrix\n",
    "from sklearn.metrics import f1_score\n",
    "from sklearn.tree import DecisionTreeClassifier\n",
    "from sklearn.ensemble import RandomForestClassifier\n",
    "from sklearn.tree import export_graphviz\n",
    "from sklearn.neighbors import KNeighborsClassifier\n",
    "\n",
    "# ignore warnings\n",
    "import warnings\n",
    "warnings.filterwarnings(\"ignore\")\n",
    "\n",
    "import matplotlib.pyplot as plt\n",
    "import seaborn as sns\n",
    "\n",
    "import graphviz\n",
    "from graphviz import Graph\n",
    "\n",
    "from prepare import prep_titanic"
   ]
  },
  {
   "cell_type": "markdown",
   "metadata": {},
   "source": [
    "# 1. Logistic Regression"
   ]
  },
  {
   "cell_type": "markdown",
   "metadata": {},
   "source": [
    "In this exercise, we'll continue working with the titanic dataset and building logistic regression models. Throughout this exercise, be sure you are training, evaluation, and comparing models on the train and validate datasets. The test dataset should only be used for your final model.\n",
    "\n",
    "For all of the models you create, choose a threshold that optimizes for accuracy."
   ]
  },
  {
   "cell_type": "markdown",
   "metadata": {},
   "source": [
    "#### OBTAINING THE DATA (Using acquire.py and prepare.py)"
   ]
  },
  {
   "cell_type": "code",
   "execution_count": 2,
   "metadata": {},
   "outputs": [
    {
     "data": {
      "text/html": [
       "<div>\n",
       "<style scoped>\n",
       "    .dataframe tbody tr th:only-of-type {\n",
       "        vertical-align: middle;\n",
       "    }\n",
       "\n",
       "    .dataframe tbody tr th {\n",
       "        vertical-align: top;\n",
       "    }\n",
       "\n",
       "    .dataframe thead th {\n",
       "        text-align: right;\n",
       "    }\n",
       "</style>\n",
       "<table border=\"1\" class=\"dataframe\">\n",
       "  <thead>\n",
       "    <tr style=\"text-align: right;\">\n",
       "      <th></th>\n",
       "      <th>passenger_id</th>\n",
       "      <th>survived</th>\n",
       "      <th>pclass</th>\n",
       "      <th>age</th>\n",
       "      <th>sibsp</th>\n",
       "      <th>parch</th>\n",
       "      <th>fare</th>\n",
       "      <th>embarked</th>\n",
       "      <th>class</th>\n",
       "      <th>embark_town</th>\n",
       "      <th>alone</th>\n",
       "      <th>is_female</th>\n",
       "      <th>Q</th>\n",
       "      <th>S</th>\n",
       "    </tr>\n",
       "  </thead>\n",
       "  <tbody>\n",
       "    <tr>\n",
       "      <th>583</th>\n",
       "      <td>583</td>\n",
       "      <td>0</td>\n",
       "      <td>1</td>\n",
       "      <td>36.000000</td>\n",
       "      <td>0</td>\n",
       "      <td>0</td>\n",
       "      <td>40.1250</td>\n",
       "      <td>C</td>\n",
       "      <td>First</td>\n",
       "      <td>Cherbourg</td>\n",
       "      <td>1</td>\n",
       "      <td>0</td>\n",
       "      <td>0</td>\n",
       "      <td>0</td>\n",
       "    </tr>\n",
       "    <tr>\n",
       "      <th>337</th>\n",
       "      <td>337</td>\n",
       "      <td>1</td>\n",
       "      <td>1</td>\n",
       "      <td>41.000000</td>\n",
       "      <td>0</td>\n",
       "      <td>0</td>\n",
       "      <td>134.5000</td>\n",
       "      <td>C</td>\n",
       "      <td>First</td>\n",
       "      <td>Cherbourg</td>\n",
       "      <td>1</td>\n",
       "      <td>1</td>\n",
       "      <td>0</td>\n",
       "      <td>0</td>\n",
       "    </tr>\n",
       "    <tr>\n",
       "      <th>50</th>\n",
       "      <td>50</td>\n",
       "      <td>0</td>\n",
       "      <td>3</td>\n",
       "      <td>7.000000</td>\n",
       "      <td>4</td>\n",
       "      <td>1</td>\n",
       "      <td>39.6875</td>\n",
       "      <td>S</td>\n",
       "      <td>Third</td>\n",
       "      <td>Southampton</td>\n",
       "      <td>0</td>\n",
       "      <td>0</td>\n",
       "      <td>0</td>\n",
       "      <td>1</td>\n",
       "    </tr>\n",
       "    <tr>\n",
       "      <th>218</th>\n",
       "      <td>218</td>\n",
       "      <td>1</td>\n",
       "      <td>1</td>\n",
       "      <td>32.000000</td>\n",
       "      <td>0</td>\n",
       "      <td>0</td>\n",
       "      <td>76.2917</td>\n",
       "      <td>C</td>\n",
       "      <td>First</td>\n",
       "      <td>Cherbourg</td>\n",
       "      <td>1</td>\n",
       "      <td>1</td>\n",
       "      <td>0</td>\n",
       "      <td>0</td>\n",
       "    </tr>\n",
       "    <tr>\n",
       "      <th>31</th>\n",
       "      <td>31</td>\n",
       "      <td>1</td>\n",
       "      <td>1</td>\n",
       "      <td>29.916875</td>\n",
       "      <td>1</td>\n",
       "      <td>0</td>\n",
       "      <td>146.5208</td>\n",
       "      <td>C</td>\n",
       "      <td>First</td>\n",
       "      <td>Cherbourg</td>\n",
       "      <td>0</td>\n",
       "      <td>1</td>\n",
       "      <td>0</td>\n",
       "      <td>0</td>\n",
       "    </tr>\n",
       "  </tbody>\n",
       "</table>\n",
       "</div>"
      ],
      "text/plain": [
       "     passenger_id  survived  pclass        age  sibsp  parch      fare  \\\n",
       "583           583         0       1  36.000000      0      0   40.1250   \n",
       "337           337         1       1  41.000000      0      0  134.5000   \n",
       "50             50         0       3   7.000000      4      1   39.6875   \n",
       "218           218         1       1  32.000000      0      0   76.2917   \n",
       "31             31         1       1  29.916875      1      0  146.5208   \n",
       "\n",
       "    embarked  class  embark_town  alone  is_female  Q  S  \n",
       "583        C  First    Cherbourg      1          0  0  0  \n",
       "337        C  First    Cherbourg      1          1  0  0  \n",
       "50         S  Third  Southampton      0          0  0  1  \n",
       "218        C  First    Cherbourg      1          1  0  0  \n",
       "31         C  First    Cherbourg      0          1  0  0  "
      ]
     },
     "execution_count": 2,
     "metadata": {},
     "output_type": "execute_result"
    }
   ],
   "source": [
    "train, validate, test = prep_titanic()\n",
    "train.head()"
   ]
  },
  {
   "cell_type": "markdown",
   "metadata": {},
   "source": [
    "### Q1. Start by defining your baseline model."
   ]
  },
  {
   "cell_type": "code",
   "execution_count": 3,
   "metadata": {},
   "outputs": [
    {
     "data": {
      "text/plain": [
       "0    0.617706\n",
       "1    0.382294\n",
       "Name: survived, dtype: float64"
      ]
     },
     "execution_count": 3,
     "metadata": {},
     "output_type": "execute_result"
    }
   ],
   "source": [
    "train.survived.value_counts(normalize=True)"
   ]
  },
  {
   "cell_type": "markdown",
   "metadata": {},
   "source": [
    "Our baseline is a model with no features that predicts survived = 0 (did not survive) 100% of the time.\n",
    "\n",
    "On the training dataset, this model would be accurate 61.77 % of the time. "
   ]
  },
  {
   "cell_type": "markdown",
   "metadata": {},
   "source": [
    "### Q2. Create another model that includes age in addition to fare and pclass. Does this model perform better than your baseline?"
   ]
  },
  {
   "cell_type": "code",
   "execution_count": 4,
   "metadata": {},
   "outputs": [],
   "source": [
    "def feature_target_selector(features, target, train=train, validate=validate, test=test):\n",
    "    X_train = train[features]\n",
    "    y_train = train[target]\n",
    "    X_validate = validate[features]\n",
    "    y_validate = validate[target]\n",
    "    X_test = test[features]\n",
    "    y_test = test[target]\n",
    "    return X_train, y_train, X_validate, y_validate, X_test, y_test"
   ]
  },
  {
   "cell_type": "code",
   "execution_count": 5,
   "metadata": {},
   "outputs": [],
   "source": [
    "features = ['age', 'fare', 'pclass']\n",
    "target = ['survived']\n",
    "X_train1, y_train, X_validate1, y_validate, X_test1, y_test = feature_target_selector(features, target)"
   ]
  },
  {
   "cell_type": "code",
   "execution_count": 6,
   "metadata": {},
   "outputs": [
    {
     "data": {
      "text/plain": [
       "(497, 3)"
      ]
     },
     "execution_count": 6,
     "metadata": {},
     "output_type": "execute_result"
    }
   ],
   "source": [
    "X_train1.shape"
   ]
  },
  {
   "cell_type": "code",
   "execution_count": 7,
   "metadata": {},
   "outputs": [
    {
     "data": {
      "text/plain": [
       "(497, 1)"
      ]
     },
     "execution_count": 7,
     "metadata": {},
     "output_type": "execute_result"
    }
   ],
   "source": [
    "y_train.shape"
   ]
  },
  {
   "cell_type": "code",
   "execution_count": 8,
   "metadata": {},
   "outputs": [
    {
     "data": {
      "text/html": [
       "<div>\n",
       "<style scoped>\n",
       "    .dataframe tbody tr th:only-of-type {\n",
       "        vertical-align: middle;\n",
       "    }\n",
       "\n",
       "    .dataframe tbody tr th {\n",
       "        vertical-align: top;\n",
       "    }\n",
       "\n",
       "    .dataframe thead th {\n",
       "        text-align: right;\n",
       "    }\n",
       "</style>\n",
       "<table border=\"1\" class=\"dataframe\">\n",
       "  <thead>\n",
       "    <tr style=\"text-align: right;\">\n",
       "      <th></th>\n",
       "      <th>age</th>\n",
       "      <th>fare</th>\n",
       "      <th>pclass</th>\n",
       "    </tr>\n",
       "  </thead>\n",
       "  <tbody>\n",
       "    <tr>\n",
       "      <th>583</th>\n",
       "      <td>36.0</td>\n",
       "      <td>40.1250</td>\n",
       "      <td>1</td>\n",
       "    </tr>\n",
       "    <tr>\n",
       "      <th>337</th>\n",
       "      <td>41.0</td>\n",
       "      <td>134.5000</td>\n",
       "      <td>1</td>\n",
       "    </tr>\n",
       "    <tr>\n",
       "      <th>50</th>\n",
       "      <td>7.0</td>\n",
       "      <td>39.6875</td>\n",
       "      <td>3</td>\n",
       "    </tr>\n",
       "  </tbody>\n",
       "</table>\n",
       "</div>"
      ],
      "text/plain": [
       "      age      fare  pclass\n",
       "583  36.0   40.1250       1\n",
       "337  41.0  134.5000       1\n",
       "50    7.0   39.6875       3"
      ]
     },
     "execution_count": 8,
     "metadata": {},
     "output_type": "execute_result"
    }
   ],
   "source": [
    "X_train1.head(3)"
   ]
  },
  {
   "cell_type": "code",
   "execution_count": 9,
   "metadata": {},
   "outputs": [
    {
     "data": {
      "text/html": [
       "<div>\n",
       "<style scoped>\n",
       "    .dataframe tbody tr th:only-of-type {\n",
       "        vertical-align: middle;\n",
       "    }\n",
       "\n",
       "    .dataframe tbody tr th {\n",
       "        vertical-align: top;\n",
       "    }\n",
       "\n",
       "    .dataframe thead th {\n",
       "        text-align: right;\n",
       "    }\n",
       "</style>\n",
       "<table border=\"1\" class=\"dataframe\">\n",
       "  <thead>\n",
       "    <tr style=\"text-align: right;\">\n",
       "      <th></th>\n",
       "      <th>survived</th>\n",
       "    </tr>\n",
       "  </thead>\n",
       "  <tbody>\n",
       "    <tr>\n",
       "      <th>583</th>\n",
       "      <td>0</td>\n",
       "    </tr>\n",
       "    <tr>\n",
       "      <th>337</th>\n",
       "      <td>1</td>\n",
       "    </tr>\n",
       "    <tr>\n",
       "      <th>50</th>\n",
       "      <td>0</td>\n",
       "    </tr>\n",
       "  </tbody>\n",
       "</table>\n",
       "</div>"
      ],
      "text/plain": [
       "     survived\n",
       "583         0\n",
       "337         1\n",
       "50          0"
      ]
     },
     "execution_count": 9,
     "metadata": {},
     "output_type": "execute_result"
    }
   ],
   "source": [
    "y_train.head(3)"
   ]
  },
  {
   "cell_type": "code",
   "execution_count": 10,
   "metadata": {},
   "outputs": [
    {
     "name": "stdout",
     "output_type": "stream",
     "text": [
      "Coefficient: \n",
      " [[-0.03051881  0.00266519 -0.97983178]]\n",
      "Intercept: \n",
      " [2.52970125]\n"
     ]
    }
   ],
   "source": [
    "logit1 = LogisticRegression(random_state=123, solver='lbfgs')\n",
    "logit1.fit(X_train1, y_train)\n",
    "print('Coefficient: \\n', logit1.coef_)\n",
    "print('Intercept: \\n', logit1.intercept_)"
   ]
  },
  {
   "cell_type": "code",
   "execution_count": 11,
   "metadata": {},
   "outputs": [],
   "source": [
    "y_pred1 = logit1.predict(X_train1)\n",
    "y_pred1_proba = logit1.predict_proba(X_train1)"
   ]
  },
  {
   "cell_type": "code",
   "execution_count": 12,
   "metadata": {},
   "outputs": [
    {
     "name": "stdout",
     "output_type": "stream",
     "text": [
      "Accuracy of Logistic Regression classifier on training set: 0.72\n",
      "F1 score of Logistic Regression classifier on training set: 0.56\n"
     ]
    }
   ],
   "source": [
    "print('Accuracy of Logistic Regression classifier on training set: {:.2f}'\n",
    "     .format(logit1.score(X_train1, y_train)))\n",
    "\n",
    "print('F1 score of Logistic Regression classifier on training set: {:.2f}'\n",
    "     .format(f1_score(y_train, y_pred1)))\n",
    "\n",
    "logit1_score = logit1.score(X_train1, y_train)\n",
    "logit1_f1 = f1_score(y_train, y_pred1)"
   ]
  },
  {
   "cell_type": "markdown",
   "metadata": {},
   "source": [
    "#### Model 1 performs better than baseline."
   ]
  },
  {
   "cell_type": "code",
   "execution_count": 13,
   "metadata": {},
   "outputs": [
    {
     "name": "stdout",
     "output_type": "stream",
     "text": [
      "[[265  42]\n",
      " [ 99  91]]\n"
     ]
    }
   ],
   "source": [
    "print(confusion_matrix(y_train, y_pred1))"
   ]
  },
  {
   "cell_type": "code",
   "execution_count": 14,
   "metadata": {},
   "outputs": [
    {
     "name": "stdout",
     "output_type": "stream",
     "text": [
      "Positive is defined as dying (survival = 0)\n",
      "True positives: 265\n",
      "False negatives: 42\n",
      "False positives: 99\n",
      "True negatives: 91\n"
     ]
    }
   ],
   "source": [
    "def print_cm_details(y_pred, y_train=y_train):\n",
    "    true_positive_count = confusion_matrix(y_train, y_pred)[0][0]\n",
    "    print(f'True positives: {true_positive_count}')\n",
    "    false_negative_count = confusion_matrix(y_train, y_pred)[0][1]\n",
    "    print(f'False negatives: {false_negative_count}')\n",
    "    false_positive_count = confusion_matrix(y_train, y_pred)[1][0]\n",
    "    print(f'False positives: {false_positive_count}')\n",
    "    true_negative_count = confusion_matrix(y_train, y_pred)[1][1]\n",
    "    print(f'True negatives: {true_negative_count}')\n",
    "\n",
    "print('Positive is defined as dying (survival = 0)')\n",
    "print_cm_details(y_pred1)"
   ]
  },
  {
   "cell_type": "code",
   "execution_count": 15,
   "metadata": {},
   "outputs": [
    {
     "name": "stdout",
     "output_type": "stream",
     "text": [
      "              precision    recall  f1-score   support\n",
      "\n",
      "           0       0.73      0.86      0.79       307\n",
      "           1       0.68      0.48      0.56       190\n",
      "\n",
      "    accuracy                           0.72       497\n",
      "   macro avg       0.71      0.67      0.68       497\n",
      "weighted avg       0.71      0.72      0.70       497\n",
      "\n"
     ]
    }
   ],
   "source": [
    "print(classification_report(y_train, y_pred1))"
   ]
  },
  {
   "cell_type": "markdown",
   "metadata": {},
   "source": [
    "### Q3. Include sex in your model as well. "
   ]
  },
  {
   "cell_type": "code",
   "execution_count": 16,
   "metadata": {},
   "outputs": [],
   "source": [
    "features = ['age', 'fare', 'pclass', 'is_female']\n",
    "target = ['survived']\n",
    "X_train2, y_train, X_validate2, y_validate, X_test2, y_test = feature_target_selector(features, target)"
   ]
  },
  {
   "cell_type": "code",
   "execution_count": 17,
   "metadata": {},
   "outputs": [
    {
     "data": {
      "text/html": [
       "<div>\n",
       "<style scoped>\n",
       "    .dataframe tbody tr th:only-of-type {\n",
       "        vertical-align: middle;\n",
       "    }\n",
       "\n",
       "    .dataframe tbody tr th {\n",
       "        vertical-align: top;\n",
       "    }\n",
       "\n",
       "    .dataframe thead th {\n",
       "        text-align: right;\n",
       "    }\n",
       "</style>\n",
       "<table border=\"1\" class=\"dataframe\">\n",
       "  <thead>\n",
       "    <tr style=\"text-align: right;\">\n",
       "      <th></th>\n",
       "      <th>age</th>\n",
       "      <th>fare</th>\n",
       "      <th>pclass</th>\n",
       "      <th>is_female</th>\n",
       "    </tr>\n",
       "  </thead>\n",
       "  <tbody>\n",
       "    <tr>\n",
       "      <th>583</th>\n",
       "      <td>36.0</td>\n",
       "      <td>40.1250</td>\n",
       "      <td>1</td>\n",
       "      <td>0</td>\n",
       "    </tr>\n",
       "    <tr>\n",
       "      <th>337</th>\n",
       "      <td>41.0</td>\n",
       "      <td>134.5000</td>\n",
       "      <td>1</td>\n",
       "      <td>1</td>\n",
       "    </tr>\n",
       "    <tr>\n",
       "      <th>50</th>\n",
       "      <td>7.0</td>\n",
       "      <td>39.6875</td>\n",
       "      <td>3</td>\n",
       "      <td>0</td>\n",
       "    </tr>\n",
       "  </tbody>\n",
       "</table>\n",
       "</div>"
      ],
      "text/plain": [
       "      age      fare  pclass  is_female\n",
       "583  36.0   40.1250       1          0\n",
       "337  41.0  134.5000       1          1\n",
       "50    7.0   39.6875       3          0"
      ]
     },
     "execution_count": 17,
     "metadata": {},
     "output_type": "execute_result"
    }
   ],
   "source": [
    "X_train2.head(3)"
   ]
  },
  {
   "cell_type": "code",
   "execution_count": 18,
   "metadata": {},
   "outputs": [
    {
     "data": {
      "text/plain": [
       "(497, 4)"
      ]
     },
     "execution_count": 18,
     "metadata": {},
     "output_type": "execute_result"
    }
   ],
   "source": [
    "X_train2.shape"
   ]
  },
  {
   "cell_type": "code",
   "execution_count": 19,
   "metadata": {},
   "outputs": [
    {
     "data": {
      "text/plain": [
       "0    330\n",
       "1    167\n",
       "Name: is_female, dtype: int64"
      ]
     },
     "execution_count": 19,
     "metadata": {},
     "output_type": "execute_result"
    }
   ],
   "source": [
    "X_train2.is_female.value_counts()"
   ]
  },
  {
   "cell_type": "code",
   "execution_count": 20,
   "metadata": {},
   "outputs": [
    {
     "name": "stdout",
     "output_type": "stream",
     "text": [
      "Coefficient: \n",
      " [[-2.66594329e-02  9.02725506e-04 -1.11402250e+00  2.45877991e+00]]\n",
      "Intercept: \n",
      " [1.84786623]\n"
     ]
    }
   ],
   "source": [
    "logit2 = LogisticRegression(random_state=123, solver='lbfgs')\n",
    "logit2.fit(X_train2, y_train)\n",
    "print('Coefficient: \\n', logit2.coef_)\n",
    "print('Intercept: \\n', logit2.intercept_)"
   ]
  },
  {
   "cell_type": "code",
   "execution_count": 21,
   "metadata": {},
   "outputs": [],
   "source": [
    "y_pred2 = logit2.predict(X_train2)\n",
    "y_pred2_proba = logit2.predict_proba(X_train2)"
   ]
  },
  {
   "cell_type": "code",
   "execution_count": 22,
   "metadata": {},
   "outputs": [
    {
     "name": "stdout",
     "output_type": "stream",
     "text": [
      "Accuracy of Logistic Regression classifier on training set: 0.80\n",
      "F1 score of Logistic Regression classifier on training set: 0.73\n"
     ]
    }
   ],
   "source": [
    "print('Accuracy of Logistic Regression classifier on training set: {:.2f}'\n",
    "     .format(logit2.score(X_train2, y_train)))\n",
    "\n",
    "print('F1 score of Logistic Regression classifier on training set: {:.2f}'\n",
    "     .format(f1_score(y_train, y_pred2)))\n",
    "\n",
    "logit2_score = logit2.score(X_train2, y_train)\n",
    "logit2_f1 = f1_score(y_train, y_pred2)"
   ]
  },
  {
   "cell_type": "code",
   "execution_count": 23,
   "metadata": {},
   "outputs": [
    {
     "name": "stdout",
     "output_type": "stream",
     "text": [
      "[[263  44]\n",
      " [ 56 134]]\n"
     ]
    }
   ],
   "source": [
    "print(confusion_matrix(y_train, y_pred2))"
   ]
  },
  {
   "cell_type": "code",
   "execution_count": 24,
   "metadata": {},
   "outputs": [
    {
     "name": "stdout",
     "output_type": "stream",
     "text": [
      "Positive is defined as dying (survival = 0)\n",
      "True positives: 263\n",
      "False negatives: 44\n",
      "False positives: 56\n",
      "True negatives: 134\n"
     ]
    }
   ],
   "source": [
    "print('Positive is defined as dying (survival = 0)')\n",
    "print_cm_details(y_pred2)"
   ]
  },
  {
   "cell_type": "code",
   "execution_count": 25,
   "metadata": {},
   "outputs": [
    {
     "name": "stdout",
     "output_type": "stream",
     "text": [
      "              precision    recall  f1-score   support\n",
      "\n",
      "           0       0.82      0.86      0.84       307\n",
      "           1       0.75      0.71      0.73       190\n",
      "\n",
      "    accuracy                           0.80       497\n",
      "   macro avg       0.79      0.78      0.78       497\n",
      "weighted avg       0.80      0.80      0.80       497\n",
      "\n"
     ]
    }
   ],
   "source": [
    "print(classification_report(y_train, y_pred2))"
   ]
  },
  {
   "cell_type": "markdown",
   "metadata": {},
   "source": [
    "### Q4. Try out other combinations of features and models."
   ]
  },
  {
   "cell_type": "code",
   "execution_count": 26,
   "metadata": {},
   "outputs": [
    {
     "data": {
      "text/plain": [
       "Index(['passenger_id', 'survived', 'pclass', 'age', 'sibsp', 'parch', 'fare',\n",
       "       'embarked', 'class', 'embark_town', 'alone', 'is_female', 'Q', 'S'],\n",
       "      dtype='object')"
      ]
     },
     "execution_count": 26,
     "metadata": {},
     "output_type": "execute_result"
    }
   ],
   "source": [
    "train.columns"
   ]
  },
  {
   "cell_type": "code",
   "execution_count": 27,
   "metadata": {},
   "outputs": [],
   "source": [
    "features = ['pclass', 'age', 'sibsp', 'parch', 'fare', 'is_female', 'Q', 'S']\n",
    "target = ['survived']\n",
    "X_train3, y_train, X_validate3, y_validate, X_test3, y_test = feature_target_selector(features, target)"
   ]
  },
  {
   "cell_type": "code",
   "execution_count": 28,
   "metadata": {},
   "outputs": [
    {
     "data": {
      "text/html": [
       "<div>\n",
       "<style scoped>\n",
       "    .dataframe tbody tr th:only-of-type {\n",
       "        vertical-align: middle;\n",
       "    }\n",
       "\n",
       "    .dataframe tbody tr th {\n",
       "        vertical-align: top;\n",
       "    }\n",
       "\n",
       "    .dataframe thead th {\n",
       "        text-align: right;\n",
       "    }\n",
       "</style>\n",
       "<table border=\"1\" class=\"dataframe\">\n",
       "  <thead>\n",
       "    <tr style=\"text-align: right;\">\n",
       "      <th></th>\n",
       "      <th>pclass</th>\n",
       "      <th>age</th>\n",
       "      <th>sibsp</th>\n",
       "      <th>parch</th>\n",
       "      <th>fare</th>\n",
       "      <th>is_female</th>\n",
       "      <th>Q</th>\n",
       "      <th>S</th>\n",
       "    </tr>\n",
       "  </thead>\n",
       "  <tbody>\n",
       "    <tr>\n",
       "      <th>583</th>\n",
       "      <td>1</td>\n",
       "      <td>36.0</td>\n",
       "      <td>0</td>\n",
       "      <td>0</td>\n",
       "      <td>40.1250</td>\n",
       "      <td>0</td>\n",
       "      <td>0</td>\n",
       "      <td>0</td>\n",
       "    </tr>\n",
       "    <tr>\n",
       "      <th>337</th>\n",
       "      <td>1</td>\n",
       "      <td>41.0</td>\n",
       "      <td>0</td>\n",
       "      <td>0</td>\n",
       "      <td>134.5000</td>\n",
       "      <td>1</td>\n",
       "      <td>0</td>\n",
       "      <td>0</td>\n",
       "    </tr>\n",
       "    <tr>\n",
       "      <th>50</th>\n",
       "      <td>3</td>\n",
       "      <td>7.0</td>\n",
       "      <td>4</td>\n",
       "      <td>1</td>\n",
       "      <td>39.6875</td>\n",
       "      <td>0</td>\n",
       "      <td>0</td>\n",
       "      <td>1</td>\n",
       "    </tr>\n",
       "  </tbody>\n",
       "</table>\n",
       "</div>"
      ],
      "text/plain": [
       "     pclass   age  sibsp  parch      fare  is_female  Q  S\n",
       "583       1  36.0      0      0   40.1250          0  0  0\n",
       "337       1  41.0      0      0  134.5000          1  0  0\n",
       "50        3   7.0      4      1   39.6875          0  0  1"
      ]
     },
     "execution_count": 28,
     "metadata": {},
     "output_type": "execute_result"
    }
   ],
   "source": [
    "X_train3.head(3)"
   ]
  },
  {
   "cell_type": "code",
   "execution_count": 29,
   "metadata": {},
   "outputs": [
    {
     "data": {
      "text/plain": [
       "(497, 8)"
      ]
     },
     "execution_count": 29,
     "metadata": {},
     "output_type": "execute_result"
    }
   ],
   "source": [
    "X_train3.shape"
   ]
  },
  {
   "cell_type": "code",
   "execution_count": 30,
   "metadata": {},
   "outputs": [
    {
     "name": "stdout",
     "output_type": "stream",
     "text": [
      "Coefficient: \n",
      " [[-1.10407052e+00 -3.13209426e-02 -3.08579800e-01  5.84801703e-03\n",
      "   2.11399512e-03  2.57908149e+00  3.94290948e-01  2.57536307e-02]]\n",
      "Intercept: \n",
      " [1.98859408]\n"
     ]
    }
   ],
   "source": [
    "logit3 = LogisticRegression(random_state=123, solver='lbfgs')\n",
    "logit3.fit(X_train3, y_train)\n",
    "print('Coefficient: \\n', logit3.coef_)\n",
    "print('Intercept: \\n', logit3.intercept_)"
   ]
  },
  {
   "cell_type": "code",
   "execution_count": 31,
   "metadata": {},
   "outputs": [
    {
     "data": {
      "text/plain": [
       "Index(['pclass', 'age', 'sibsp', 'parch', 'fare', 'is_female', 'Q', 'S'], dtype='object')"
      ]
     },
     "execution_count": 31,
     "metadata": {},
     "output_type": "execute_result"
    }
   ],
   "source": [
    "X_train3.columns"
   ]
  },
  {
   "cell_type": "code",
   "execution_count": 32,
   "metadata": {},
   "outputs": [],
   "source": [
    "y_pred3 = logit3.predict(X_train3)\n",
    "y_pred3_proba = logit3.predict_proba(X_train3)"
   ]
  },
  {
   "cell_type": "code",
   "execution_count": 33,
   "metadata": {},
   "outputs": [
    {
     "name": "stdout",
     "output_type": "stream",
     "text": [
      "Accuracy of Logistic Regression classifier on training set: 0.79\n",
      "F1 score of Logistic Regression classifier on training set: 0.72\n"
     ]
    }
   ],
   "source": [
    "print('Accuracy of Logistic Regression classifier on training set: {:.2f}'\n",
    "     .format(logit3.score(X_train3, y_train)))\n",
    "\n",
    "print('F1 score of Logistic Regression classifier on training set: {:.2f}'\n",
    "     .format(f1_score(y_train, y_pred3)))\n",
    "\n",
    "logit3_score = logit3.score(X_train3, y_train)\n",
    "logit3_f1 = f1_score(y_train, y_pred3)"
   ]
  },
  {
   "cell_type": "code",
   "execution_count": 34,
   "metadata": {},
   "outputs": [
    {
     "name": "stdout",
     "output_type": "stream",
     "text": [
      "[[258  49]\n",
      " [ 56 134]]\n"
     ]
    }
   ],
   "source": [
    "print(confusion_matrix(y_train, y_pred3))"
   ]
  },
  {
   "cell_type": "code",
   "execution_count": 35,
   "metadata": {},
   "outputs": [
    {
     "name": "stdout",
     "output_type": "stream",
     "text": [
      "Positive is defined as dying (survival = 0)\n",
      "True positives: 258\n",
      "False negatives: 49\n",
      "False positives: 56\n",
      "True negatives: 134\n"
     ]
    }
   ],
   "source": [
    "print('Positive is defined as dying (survival = 0)')\n",
    "print_cm_details(y_pred3)"
   ]
  },
  {
   "cell_type": "code",
   "execution_count": 36,
   "metadata": {},
   "outputs": [
    {
     "name": "stdout",
     "output_type": "stream",
     "text": [
      "              precision    recall  f1-score   support\n",
      "\n",
      "           0       0.82      0.84      0.83       307\n",
      "           1       0.73      0.71      0.72       190\n",
      "\n",
      "    accuracy                           0.79       497\n",
      "   macro avg       0.78      0.77      0.77       497\n",
      "weighted avg       0.79      0.79      0.79       497\n",
      "\n"
     ]
    }
   ],
   "source": [
    "print(classification_report(y_train, y_pred3))"
   ]
  },
  {
   "cell_type": "markdown",
   "metadata": {},
   "source": [
    "#### Sex Only Model"
   ]
  },
  {
   "cell_type": "code",
   "execution_count": 37,
   "metadata": {},
   "outputs": [],
   "source": [
    "features = ['is_female']\n",
    "target = ['survived']\n",
    "X_train4, y_train, X_validate4, y_validate, X_test4, y_test = feature_target_selector(features, target)"
   ]
  },
  {
   "cell_type": "code",
   "execution_count": 38,
   "metadata": {},
   "outputs": [
    {
     "data": {
      "text/html": [
       "<div>\n",
       "<style scoped>\n",
       "    .dataframe tbody tr th:only-of-type {\n",
       "        vertical-align: middle;\n",
       "    }\n",
       "\n",
       "    .dataframe tbody tr th {\n",
       "        vertical-align: top;\n",
       "    }\n",
       "\n",
       "    .dataframe thead th {\n",
       "        text-align: right;\n",
       "    }\n",
       "</style>\n",
       "<table border=\"1\" class=\"dataframe\">\n",
       "  <thead>\n",
       "    <tr style=\"text-align: right;\">\n",
       "      <th></th>\n",
       "      <th>is_female</th>\n",
       "    </tr>\n",
       "  </thead>\n",
       "  <tbody>\n",
       "    <tr>\n",
       "      <th>583</th>\n",
       "      <td>0</td>\n",
       "    </tr>\n",
       "    <tr>\n",
       "      <th>337</th>\n",
       "      <td>1</td>\n",
       "    </tr>\n",
       "    <tr>\n",
       "      <th>50</th>\n",
       "      <td>0</td>\n",
       "    </tr>\n",
       "  </tbody>\n",
       "</table>\n",
       "</div>"
      ],
      "text/plain": [
       "     is_female\n",
       "583          0\n",
       "337          1\n",
       "50           0"
      ]
     },
     "execution_count": 38,
     "metadata": {},
     "output_type": "execute_result"
    }
   ],
   "source": [
    "X_train4.head(3)"
   ]
  },
  {
   "cell_type": "code",
   "execution_count": 39,
   "metadata": {},
   "outputs": [
    {
     "data": {
      "text/html": [
       "<div>\n",
       "<style scoped>\n",
       "    .dataframe tbody tr th:only-of-type {\n",
       "        vertical-align: middle;\n",
       "    }\n",
       "\n",
       "    .dataframe tbody tr th {\n",
       "        vertical-align: top;\n",
       "    }\n",
       "\n",
       "    .dataframe thead th {\n",
       "        text-align: right;\n",
       "    }\n",
       "</style>\n",
       "<table border=\"1\" class=\"dataframe\">\n",
       "  <thead>\n",
       "    <tr style=\"text-align: right;\">\n",
       "      <th></th>\n",
       "      <th>is_female</th>\n",
       "    </tr>\n",
       "  </thead>\n",
       "  <tbody>\n",
       "    <tr>\n",
       "      <th>610</th>\n",
       "      <td>1</td>\n",
       "    </tr>\n",
       "    <tr>\n",
       "      <th>424</th>\n",
       "      <td>0</td>\n",
       "    </tr>\n",
       "    <tr>\n",
       "      <th>568</th>\n",
       "      <td>0</td>\n",
       "    </tr>\n",
       "    <tr>\n",
       "      <th>701</th>\n",
       "      <td>0</td>\n",
       "    </tr>\n",
       "    <tr>\n",
       "      <th>101</th>\n",
       "      <td>0</td>\n",
       "    </tr>\n",
       "  </tbody>\n",
       "</table>\n",
       "</div>"
      ],
      "text/plain": [
       "     is_female\n",
       "610          1\n",
       "424          0\n",
       "568          0\n",
       "701          0\n",
       "101          0"
      ]
     },
     "execution_count": 39,
     "metadata": {},
     "output_type": "execute_result"
    }
   ],
   "source": [
    "X_validate4.head()"
   ]
  },
  {
   "cell_type": "code",
   "execution_count": 40,
   "metadata": {},
   "outputs": [
    {
     "data": {
      "text/plain": [
       "(497, 1)"
      ]
     },
     "execution_count": 40,
     "metadata": {},
     "output_type": "execute_result"
    }
   ],
   "source": [
    "X_train4.shape"
   ]
  },
  {
   "cell_type": "code",
   "execution_count": 41,
   "metadata": {},
   "outputs": [
    {
     "name": "stdout",
     "output_type": "stream",
     "text": [
      "Coefficient: \n",
      " [[2.37682254]]\n",
      "Intercept: \n",
      " [-1.36042994]\n"
     ]
    }
   ],
   "source": [
    "logit4 = LogisticRegression(random_state=123, solver='lbfgs')\n",
    "logit4.fit(X_train4, y_train)\n",
    "print('Coefficient: \\n', logit4.coef_)\n",
    "print('Intercept: \\n', logit4.intercept_)"
   ]
  },
  {
   "cell_type": "code",
   "execution_count": 42,
   "metadata": {},
   "outputs": [],
   "source": [
    "y_pred4 = logit4.predict(X_train4)\n",
    "y_pred4_proba = logit4.predict_proba(X_train4)"
   ]
  },
  {
   "cell_type": "code",
   "execution_count": 43,
   "metadata": {},
   "outputs": [
    {
     "name": "stdout",
     "output_type": "stream",
     "text": [
      "Accuracy of Logistic Regression classifier on training set: 0.78\n",
      "F1 score of Logistic Regression classifier on training set: 0.70\n"
     ]
    }
   ],
   "source": [
    "print('Accuracy of Logistic Regression classifier on training set: {:.2f}'\n",
    "     .format(logit4.score(X_train4, y_train)))\n",
    "\n",
    "print('F1 score of Logistic Regression classifier on training set: {:.2f}'\n",
    "     .format(f1_score(y_train, y_pred4)))\n",
    "\n",
    "logit4_score = logit4.score(X_train4, y_train)\n",
    "logit4_f1 = f1_score(y_train, y_pred4)"
   ]
  },
  {
   "cell_type": "code",
   "execution_count": 44,
   "metadata": {},
   "outputs": [
    {
     "name": "stdout",
     "output_type": "stream",
     "text": [
      "[[265  42]\n",
      " [ 65 125]]\n"
     ]
    }
   ],
   "source": [
    "print(confusion_matrix(y_train, y_pred4))"
   ]
  },
  {
   "cell_type": "code",
   "execution_count": 45,
   "metadata": {},
   "outputs": [
    {
     "name": "stdout",
     "output_type": "stream",
     "text": [
      "Positive is defined as dying (survival = 0)\n",
      "True positives: 265\n",
      "False negatives: 42\n",
      "False positives: 65\n",
      "True negatives: 125\n"
     ]
    }
   ],
   "source": [
    "print('Positive is defined as dying (survival = 0)')\n",
    "print_cm_details(y_pred4)"
   ]
  },
  {
   "cell_type": "code",
   "execution_count": 46,
   "metadata": {},
   "outputs": [
    {
     "name": "stdout",
     "output_type": "stream",
     "text": [
      "              precision    recall  f1-score   support\n",
      "\n",
      "           0       0.80      0.86      0.83       307\n",
      "           1       0.75      0.66      0.70       190\n",
      "\n",
      "    accuracy                           0.78       497\n",
      "   macro avg       0.78      0.76      0.77       497\n",
      "weighted avg       0.78      0.78      0.78       497\n",
      "\n"
     ]
    }
   ],
   "source": [
    "print(classification_report(y_train, y_pred4))"
   ]
  },
  {
   "cell_type": "markdown",
   "metadata": {},
   "source": [
    "### Q5. Use your best 3 models to predict and evaluate on your validate sample."
   ]
  },
  {
   "cell_type": "code",
   "execution_count": 47,
   "metadata": {},
   "outputs": [
    {
     "data": {
      "text/html": [
       "<div>\n",
       "<style scoped>\n",
       "    .dataframe tbody tr th:only-of-type {\n",
       "        vertical-align: middle;\n",
       "    }\n",
       "\n",
       "    .dataframe tbody tr th {\n",
       "        vertical-align: top;\n",
       "    }\n",
       "\n",
       "    .dataframe thead th {\n",
       "        text-align: right;\n",
       "    }\n",
       "</style>\n",
       "<table border=\"1\" class=\"dataframe\">\n",
       "  <thead>\n",
       "    <tr style=\"text-align: right;\">\n",
       "      <th></th>\n",
       "      <th>logit_model</th>\n",
       "      <th>accuracy</th>\n",
       "      <th>f1_score</th>\n",
       "    </tr>\n",
       "  </thead>\n",
       "  <tbody>\n",
       "    <tr>\n",
       "      <th>0</th>\n",
       "      <td>base</td>\n",
       "      <td>0.617700</td>\n",
       "      <td>NaN</td>\n",
       "    </tr>\n",
       "    <tr>\n",
       "      <th>1</th>\n",
       "      <td>1</td>\n",
       "      <td>0.716298</td>\n",
       "      <td>0.563467</td>\n",
       "    </tr>\n",
       "    <tr>\n",
       "      <th>2</th>\n",
       "      <td>2</td>\n",
       "      <td>0.798793</td>\n",
       "      <td>0.728261</td>\n",
       "    </tr>\n",
       "    <tr>\n",
       "      <th>3</th>\n",
       "      <td>3</td>\n",
       "      <td>0.788732</td>\n",
       "      <td>0.718499</td>\n",
       "    </tr>\n",
       "    <tr>\n",
       "      <th>4</th>\n",
       "      <td>4</td>\n",
       "      <td>0.784708</td>\n",
       "      <td>0.700280</td>\n",
       "    </tr>\n",
       "  </tbody>\n",
       "</table>\n",
       "</div>"
      ],
      "text/plain": [
       "  logit_model  accuracy  f1_score\n",
       "0        base  0.617700       NaN\n",
       "1           1  0.716298  0.563467\n",
       "2           2  0.798793  0.728261\n",
       "3           3  0.788732  0.718499\n",
       "4           4  0.784708  0.700280"
      ]
     },
     "execution_count": 47,
     "metadata": {},
     "output_type": "execute_result"
    }
   ],
   "source": [
    "logit_ratings = {'logit_model': ['base', 1, 2, 3, 4], 'accuracy': [0.6177, logit1_score, logit2_score, logit3_score, logit4_score], 'f1_score': [np.nan, logit1_f1, logit2_f1, logit3_f1, logit4_f1]}\n",
    "logit_models = pd.DataFrame(data=logit_ratings)\n",
    "logit_models"
   ]
  },
  {
   "cell_type": "code",
   "execution_count": 48,
   "metadata": {},
   "outputs": [],
   "source": [
    "# Logit Models 2, 3, and 4 have the highest accuracy and highest f1 scores"
   ]
  },
  {
   "cell_type": "code",
   "execution_count": 49,
   "metadata": {},
   "outputs": [],
   "source": [
    "y_pred2 = logit2.predict(X_validate2)\n",
    "y_pred3 = logit3.predict(X_validate3)\n",
    "y_pred4 = logit4.predict(X_validate4)"
   ]
  },
  {
   "cell_type": "code",
   "execution_count": 50,
   "metadata": {},
   "outputs": [
    {
     "name": "stdout",
     "output_type": "stream",
     "text": [
      "Model 2: Logistic Regression - Validate Performance\n",
      "Accuracy: 0.79\n",
      "[[111  21]\n",
      " [ 25  57]]\n",
      "              precision    recall  f1-score   support\n",
      "\n",
      "           0       0.82      0.84      0.83       132\n",
      "           1       0.73      0.70      0.71        82\n",
      "\n",
      "    accuracy                           0.79       214\n",
      "   macro avg       0.77      0.77      0.77       214\n",
      "weighted avg       0.78      0.79      0.78       214\n",
      "\n",
      "Model 3: Logistic Regression - Validate Performance\n",
      "Accuracy: 0.77\n",
      "[[110  22]\n",
      " [ 28  54]]\n",
      "              precision    recall  f1-score   support\n",
      "\n",
      "           0       0.80      0.83      0.81       132\n",
      "           1       0.71      0.66      0.68        82\n",
      "\n",
      "    accuracy                           0.77       214\n",
      "   macro avg       0.75      0.75      0.75       214\n",
      "weighted avg       0.76      0.77      0.76       214\n",
      "\n",
      "Model 4: Logistic Regression - Validate Performance\n",
      "Accuracy: 0.77\n",
      "[[109  23]\n",
      " [ 27  55]]\n",
      "              precision    recall  f1-score   support\n",
      "\n",
      "           0       0.80      0.83      0.81       132\n",
      "           1       0.71      0.67      0.69        82\n",
      "\n",
      "    accuracy                           0.77       214\n",
      "   macro avg       0.75      0.75      0.75       214\n",
      "weighted avg       0.76      0.77      0.77       214\n",
      "\n"
     ]
    }
   ],
   "source": [
    "print(\"Model 2: Logistic Regression - Validate Performance\")\n",
    "\n",
    "print('Accuracy: {:.2f}'.format(logit2.score(X_validate2, y_validate)))\n",
    "\n",
    "print(confusion_matrix(y_validate, y_pred2))\n",
    "\n",
    "print(classification_report(y_validate, y_pred2))\n",
    "\n",
    "print(\"Model 3: Logistic Regression - Validate Performance\")\n",
    "\n",
    "print('Accuracy: {:.2f}'.format(logit3.score(X_validate3, y_validate)))\n",
    "\n",
    "print(confusion_matrix(y_validate, y_pred3))\n",
    "\n",
    "print(classification_report(y_validate, y_pred3))\n",
    "\n",
    "print(\"Model 4: Logistic Regression - Validate Performance\")\n",
    "\n",
    "print('Accuracy: {:.2f}'.format(logit4.score(X_validate4, y_validate)))\n",
    "\n",
    "print(confusion_matrix(y_validate, y_pred4))\n",
    "\n",
    "print(classification_report(y_validate, y_pred4))"
   ]
  },
  {
   "cell_type": "markdown",
   "metadata": {},
   "source": [
    "### Q6. Choose you best model from the validation performation, and evaluate it on the test dataset. How do the performance metrics compare to validate? to train?"
   ]
  },
  {
   "cell_type": "code",
   "execution_count": 51,
   "metadata": {},
   "outputs": [
    {
     "name": "stdout",
     "output_type": "stream",
     "text": [
      "Model 2: Logistic Regression - Test Performance\n",
      "Accuracy: 0.82\n",
      "[[93 17]\n",
      " [15 53]]\n",
      "              precision    recall  f1-score   support\n",
      "\n",
      "           0       0.86      0.85      0.85       110\n",
      "           1       0.76      0.78      0.77        68\n",
      "\n",
      "    accuracy                           0.82       178\n",
      "   macro avg       0.81      0.81      0.81       178\n",
      "weighted avg       0.82      0.82      0.82       178\n",
      "\n"
     ]
    }
   ],
   "source": [
    "print(\"Model 2: Logistic Regression - Test Performance\")\n",
    "\n",
    "print('Accuracy: {:.2f}'.format(logit2.score(X_test2, y_test)))\n",
    "\n",
    "y_pred2 = logit2.predict(X_test2)\n",
    "\n",
    "print(confusion_matrix(y_test, y_pred2))\n",
    "\n",
    "print(classification_report(y_test, y_pred2))"
   ]
  },
  {
   "cell_type": "code",
   "execution_count": 52,
   "metadata": {},
   "outputs": [
    {
     "name": "stdout",
     "output_type": "stream",
     "text": [
      "Model 2: Logistic Regression - Validate Performance\n",
      "Accuracy: 0.79\n",
      "[[111  21]\n",
      " [ 25  57]]\n",
      "              precision    recall  f1-score   support\n",
      "\n",
      "           0       0.82      0.84      0.83       132\n",
      "           1       0.73      0.70      0.71        82\n",
      "\n",
      "    accuracy                           0.79       214\n",
      "   macro avg       0.77      0.77      0.77       214\n",
      "weighted avg       0.78      0.79      0.78       214\n",
      "\n"
     ]
    }
   ],
   "source": [
    "print(\"Model 2: Logistic Regression - Validate Performance\")\n",
    "\n",
    "print('Accuracy: {:.2f}'.format(logit2.score(X_validate2, y_validate)))\n",
    "\n",
    "y_pred2 = logit2.predict(X_validate2)\n",
    "\n",
    "print(confusion_matrix(y_validate, y_pred2))\n",
    "\n",
    "print(classification_report(y_validate, y_pred2))"
   ]
  },
  {
   "cell_type": "code",
   "execution_count": 53,
   "metadata": {},
   "outputs": [
    {
     "name": "stdout",
     "output_type": "stream",
     "text": [
      "Model 2: Logistic Regression - Train Performance\n",
      "Accuracy: 0.80\n",
      "[[263  44]\n",
      " [ 56 134]]\n",
      "              precision    recall  f1-score   support\n",
      "\n",
      "           0       0.82      0.86      0.84       307\n",
      "           1       0.75      0.71      0.73       190\n",
      "\n",
      "    accuracy                           0.80       497\n",
      "   macro avg       0.79      0.78      0.78       497\n",
      "weighted avg       0.80      0.80      0.80       497\n",
      "\n"
     ]
    }
   ],
   "source": [
    "print(\"Model 2: Logistic Regression - Train Performance\")\n",
    "\n",
    "print('Accuracy: {:.2f}'.format(logit2.score(X_train2, y_train)))\n",
    "\n",
    "y_pred2 = logit2.predict(X_train2)\n",
    "\n",
    "print(confusion_matrix(y_train, y_pred2))\n",
    "\n",
    "print(classification_report(y_train, y_pred2))"
   ]
  },
  {
   "cell_type": "code",
   "execution_count": 54,
   "metadata": {},
   "outputs": [],
   "source": [
    "# Conclusion: Our Logistic Regression Model 2 has an 82% accuracy on test data.\n",
    "# Performance on Validate and Train data is similar at 79% and 80% respectively.\n",
    "# Overfitting not likely. High confidence in model's ability to perform on new data."
   ]
  },
  {
   "cell_type": "markdown",
   "metadata": {},
   "source": [
    "# 2. Decision Trees\n",
    "In this exercise, we'll continue working with the titanic dataset and building logistic regression models. Throughout this exercise, be sure you are training, evaluation, and comparing models on the train and validate datasets. The test dataset should only be used for your final model."
   ]
  },
  {
   "cell_type": "markdown",
   "metadata": {},
   "source": [
    "### Q1. Fit the decision tree classifier to your training sample and transform (i.e. make predictions on the training sample)"
   ]
  },
  {
   "cell_type": "code",
   "execution_count": 55,
   "metadata": {},
   "outputs": [],
   "source": [
    "features = ['pclass', 'age', 'sibsp', 'parch', 'fare', 'is_female', 'Q', 'S']\n",
    "target = ['survived']\n",
    "X_train5, y_train, X_validate5, y_validate, X_test5, y_test = feature_target_selector(features, target)"
   ]
  },
  {
   "cell_type": "code",
   "execution_count": 56,
   "metadata": {},
   "outputs": [
    {
     "name": "stdout",
     "output_type": "stream",
     "text": [
      "[0.7847082494969819, 0.7907444668008048, 0.8189134808853119, 0.8350100603621731, 0.8571428571428571, 0.8611670020120724, 0.8752515090543259, 0.8933601609657947, 0.9134808853118712, 0.937625754527163, 0.9577464788732394, 0.959758551307847, 0.9758551307847082, 0.9778672032193159, 0.9859154929577465, 0.9859154929577465, 0.9859154929577465, 0.9879275653923542, 0.9879275653923542, 0.9879275653923542]\n",
      "The optimal max_depth is 18\n",
      "The accuracy on the train data at this depth is 0.988\n"
     ]
    },
    {
     "data": {
      "image/png": "[encoded data removed]",
      "text/plain": [
       "<Figure size 432x288 with 1 Axes>"
      ]
     },
     "metadata": {
      "needs_background": "light"
     },
     "output_type": "display_data"
    }
   ],
   "source": [
    "scores = []\n",
    "for i in range(1, 21):\n",
    "    tree = DecisionTreeClassifier(random_state = 1, max_depth = i)\n",
    "    tree.fit(X_train5, y_train)\n",
    "    scores.append(tree.score(X_train5, y_train))\n",
    "print(scores)\n",
    "\n",
    "max_train_accuracy = max(scores)\n",
    "max_train_index = scores.index(max_train_accuracy)\n",
    "optimal_train_depth = max_train_index + 1\n",
    "print(f'The optimal max_depth is {optimal_train_depth}')\n",
    "print(f'The accuracy on the train data at this depth is {round(max_train_accuracy, 3)}')\n",
    "\n",
    "plt.plot(range(1,21), scores)\n",
    "plt.show()"
   ]
  },
  {
   "cell_type": "code",
   "execution_count": 57,
   "metadata": {},
   "outputs": [
    {
     "data": {
      "text/plain": [
       "array([0, 1, 0, 1, 1])"
      ]
     },
     "execution_count": 57,
     "metadata": {},
     "output_type": "execute_result"
    }
   ],
   "source": [
    "tree5 = DecisionTreeClassifier(random_state = 1, max_depth = optimal_train_depth)\n",
    "tree5.fit(X_train5, y_train)\n",
    "y_pred5 = tree.predict(X_train5)\n",
    "y_pred5[0:5]"
   ]
  },
  {
   "cell_type": "code",
   "execution_count": 58,
   "metadata": {},
   "outputs": [
    {
     "data": {
      "text/plain": [
       "array([[1., 0.],\n",
       "       [0., 1.],\n",
       "       [1., 0.],\n",
       "       [0., 1.],\n",
       "       [0., 1.]])"
      ]
     },
     "execution_count": 58,
     "metadata": {},
     "output_type": "execute_result"
    }
   ],
   "source": [
    "y_pred5_proba = tree.predict_proba(X_train5)\n",
    "y_pred5_proba[0:5]"
   ]
  },
  {
   "cell_type": "markdown",
   "metadata": {},
   "source": [
    "### Q2. Evaluate your in-sample results using the model score, confusion matrix, and classification report."
   ]
  },
  {
   "cell_type": "code",
   "execution_count": 59,
   "metadata": {},
   "outputs": [
    {
     "name": "stdout",
     "output_type": "stream",
     "text": [
      "Accuracy of Decision Tree classifier #5 on training set: 0.988\n"
     ]
    }
   ],
   "source": [
    "print('Accuracy of Decision Tree classifier #5 on training set: {:.3f}'\n",
    "     .format(tree5.score(X_train5, y_train)))"
   ]
  },
  {
   "cell_type": "code",
   "execution_count": 60,
   "metadata": {},
   "outputs": [
    {
     "data": {
      "text/plain": [
       "array([[307,   0],\n",
       "       [  6, 184]])"
      ]
     },
     "execution_count": 60,
     "metadata": {},
     "output_type": "execute_result"
    }
   ],
   "source": [
    "confusion_matrix(y_train, y_pred5)"
   ]
  },
  {
   "cell_type": "code",
   "execution_count": 61,
   "metadata": {},
   "outputs": [
    {
     "name": "stdout",
     "output_type": "stream",
     "text": [
      "              precision    recall  f1-score   support\n",
      "\n",
      "           0       0.98      1.00      0.99       307\n",
      "           1       1.00      0.97      0.98       190\n",
      "\n",
      "    accuracy                           0.99       497\n",
      "   macro avg       0.99      0.98      0.99       497\n",
      "weighted avg       0.99      0.99      0.99       497\n",
      "\n"
     ]
    }
   ],
   "source": [
    "print(classification_report(y_train, y_pred5))"
   ]
  },
  {
   "cell_type": "markdown",
   "metadata": {},
   "source": [
    "### Q3. Print and clearly label the following: Accuracy, true positive rate, false positive rate, true negative rate, false negative rate, precision, recall, f1-score, and support."
   ]
  },
  {
   "cell_type": "code",
   "execution_count": 62,
   "metadata": {},
   "outputs": [
    {
     "name": "stdout",
     "output_type": "stream",
     "text": [
      "              precision    recall  f1-score   support\n",
      "\n",
      "           0       0.98      1.00      0.99       307\n",
      "           1       1.00      0.97      0.98       190\n",
      "\n",
      "    accuracy                           0.99       497\n",
      "   macro avg       0.99      0.98      0.99       497\n",
      "weighted avg       0.99      0.99      0.99       497\n",
      "\n"
     ]
    }
   ],
   "source": [
    "print(classification_report(y_train, y_pred5))"
   ]
  },
  {
   "cell_type": "code",
   "execution_count": 63,
   "metadata": {},
   "outputs": [
    {
     "name": "stdout",
     "output_type": "stream",
     "text": [
      "Positive is defined as dying (survival = 0)\n",
      "True positives: 307\n",
      "False negatives: 0\n",
      "False positives: 6\n",
      "True negatives: 184\n"
     ]
    }
   ],
   "source": [
    "print('Positive is defined as dying (survival = 0)')\n",
    "print_cm_details(y_pred5)"
   ]
  },
  {
   "cell_type": "code",
   "execution_count": 64,
   "metadata": {},
   "outputs": [
    {
     "name": "stdout",
     "output_type": "stream",
     "text": [
      "Accuracy of Decision Tree classifier #5 on training set: 0.988\n",
      "F1 score of Decision Tree classifier #5 on training set: 0.984\n"
     ]
    }
   ],
   "source": [
    "tree5_score = tree5.score(X_train5, y_train)\n",
    "tree5_f1 = f1_score(y_train, y_pred5)\n",
    "\n",
    "print('Accuracy of Decision Tree classifier #5 on training set: {:.3f}'\n",
    "     .format(tree5.score(X_train5, y_train)))\n",
    "\n",
    "print('F1 score of Decision Tree classifier #5 on training set: {:.3f}'\n",
    "     .format(f1_score(y_train, y_pred5)))"
   ]
  },
  {
   "cell_type": "markdown",
   "metadata": {},
   "source": [
    "### Q5. Run through steps 2-4 using a different max_depth value."
   ]
  },
  {
   "cell_type": "code",
   "execution_count": 65,
   "metadata": {},
   "outputs": [
    {
     "name": "stdout",
     "output_type": "stream",
     "text": [
      "Accuracy of Decision Tree classifier #6 on training set: 0.857\n",
      "F1 score of Decision Tree classifier #6 on training set: 0.799\n"
     ]
    }
   ],
   "source": [
    "features = ['pclass', 'age', 'sibsp', 'parch', 'fare', 'is_female', 'Q', 'S']\n",
    "target = ['survived']\n",
    "X_train6, y_train, X_validate6, y_validate, X_test6, y_test = feature_target_selector(features, target)\n",
    "\n",
    "tree6 = DecisionTreeClassifier(random_state = 1, max_depth = 5)\n",
    "tree6.fit(X_train6, y_train)\n",
    "\n",
    "y_pred6 = tree6.predict(X_train6)\n",
    "y_pred6_proba = tree6.predict_proba(X_train6)\n",
    "\n",
    "tree6_score = tree6.score(X_train6, y_train)\n",
    "tree6_f1 = f1_score(y_train, y_pred6)\n",
    "\n",
    "print('Accuracy of Decision Tree classifier #6 on training set: {:.3f}'\n",
    "     .format(tree6.score(X_train6, y_train)))\n",
    "print('F1 score of Decision Tree classifier #6 on training set: {:.3f}'\n",
    "     .format(f1_score(y_train, y_pred6)))"
   ]
  },
  {
   "cell_type": "code",
   "execution_count": 66,
   "metadata": {},
   "outputs": [
    {
     "data": {
      "text/plain": [
       "array([[285,  22],\n",
       "       [ 49, 141]])"
      ]
     },
     "execution_count": 66,
     "metadata": {},
     "output_type": "execute_result"
    }
   ],
   "source": [
    "confusion_matrix(y_train, y_pred6)"
   ]
  },
  {
   "cell_type": "code",
   "execution_count": 67,
   "metadata": {},
   "outputs": [
    {
     "name": "stdout",
     "output_type": "stream",
     "text": [
      "              precision    recall  f1-score   support\n",
      "\n",
      "           0       0.85      0.93      0.89       307\n",
      "           1       0.87      0.74      0.80       190\n",
      "\n",
      "    accuracy                           0.86       497\n",
      "   macro avg       0.86      0.84      0.84       497\n",
      "weighted avg       0.86      0.86      0.85       497\n",
      "\n"
     ]
    }
   ],
   "source": [
    "print(classification_report(y_train, y_pred6))"
   ]
  },
  {
   "cell_type": "code",
   "execution_count": 68,
   "metadata": {},
   "outputs": [
    {
     "name": "stdout",
     "output_type": "stream",
     "text": [
      "Positive is defined as dying (survival = 0)\n",
      "True positives: 285\n",
      "False negatives: 22\n",
      "False positives: 49\n",
      "True negatives: 141\n"
     ]
    }
   ],
   "source": [
    "print('Positive is defined as dying (survival = 0)')\n",
    "print_cm_details(y_pred6)"
   ]
  },
  {
   "cell_type": "markdown",
   "metadata": {},
   "source": [
    "### Q6. Which model performs better on your in-sample data?"
   ]
  },
  {
   "cell_type": "code",
   "execution_count": 69,
   "metadata": {},
   "outputs": [
    {
     "name": "stdout",
     "output_type": "stream",
     "text": [
      "Accuracy of Decision Tree classifier #5 on training set: 0.988\n",
      "Accuracy of Decision Tree classifier #6 on training set: 0.857\n"
     ]
    }
   ],
   "source": [
    "print('Accuracy of Decision Tree classifier #5 on training set: {:.3f}'\n",
    "     .format(tree5.score(X_train5, y_train)))\n",
    "print('Accuracy of Decision Tree classifier #6 on training set: {:.3f}'\n",
    "     .format(tree6.score(X_train6, y_train)))"
   ]
  },
  {
   "cell_type": "markdown",
   "metadata": {},
   "source": [
    "### Q7. Which model performs best on your out-of-sample data, the validate set?"
   ]
  },
  {
   "cell_type": "code",
   "execution_count": 70,
   "metadata": {},
   "outputs": [
    {
     "name": "stdout",
     "output_type": "stream",
     "text": [
      "Model 5: Decision Tree - Validate Performance\n",
      "Accuracy: 0.794\n",
      "[[110  22]\n",
      " [ 22  60]]\n",
      "              precision    recall  f1-score   support\n",
      "\n",
      "           0       0.83      0.83      0.83       132\n",
      "           1       0.73      0.73      0.73        82\n",
      "\n",
      "    accuracy                           0.79       214\n",
      "   macro avg       0.78      0.78      0.78       214\n",
      "weighted avg       0.79      0.79      0.79       214\n",
      "\n"
     ]
    }
   ],
   "source": [
    "print(\"Model 5: Decision Tree - Validate Performance\")\n",
    "\n",
    "print('Accuracy: {:.3f}'.format(tree5.score(X_validate5, y_validate)))\n",
    "\n",
    "y_pred5 = tree5.predict(X_validate5)\n",
    "\n",
    "print(confusion_matrix(y_validate, y_pred5))\n",
    "\n",
    "print(classification_report(y_validate, y_pred5))"
   ]
  },
  {
   "cell_type": "code",
   "execution_count": 71,
   "metadata": {},
   "outputs": [
    {
     "name": "stdout",
     "output_type": "stream",
     "text": [
      "Model 6: Decision Tree - Validate Performance\n",
      "Accuracy: 0.790\n",
      "[[115  17]\n",
      " [ 28  54]]\n",
      "              precision    recall  f1-score   support\n",
      "\n",
      "           0       0.80      0.87      0.84       132\n",
      "           1       0.76      0.66      0.71        82\n",
      "\n",
      "    accuracy                           0.79       214\n",
      "   macro avg       0.78      0.76      0.77       214\n",
      "weighted avg       0.79      0.79      0.79       214\n",
      "\n"
     ]
    }
   ],
   "source": [
    "print(\"Model 6: Decision Tree - Validate Performance\")\n",
    "\n",
    "print('Accuracy: {:.3f}'.format(tree6.score(X_validate6, y_validate)))\n",
    "\n",
    "y_pred6 = tree6.predict(X_validate6)\n",
    "\n",
    "print(confusion_matrix(y_validate, y_pred6))\n",
    "\n",
    "print(classification_report(y_validate, y_pred6))"
   ]
  },
  {
   "cell_type": "markdown",
   "metadata": {},
   "source": [
    "#### Model 5 performs slightly better on the validate set than Model 6"
   ]
  },
  {
   "cell_type": "markdown",
   "metadata": {},
   "source": [
    "# 3. Random Forest"
   ]
  },
  {
   "cell_type": "markdown",
   "metadata": {},
   "source": [
    "### Q1. Fit the Random Forest classifier to your training sample and transform (i.e. make predictions on the training sample) setting the random_state accordingly and setting min_samples_leaf = 1 and max_depth = 20."
   ]
  },
  {
   "cell_type": "code",
   "execution_count": 72,
   "metadata": {},
   "outputs": [],
   "source": [
    "features = ['age', 'fare', 'pclass', 'is_female']\n",
    "target = ['survived']\n",
    "X_train7, y_train, X_validate7, y_validate, X_test7, y_test = feature_target_selector(features, target)"
   ]
  },
  {
   "cell_type": "code",
   "execution_count": 73,
   "metadata": {},
   "outputs": [
    {
     "name": "stdout",
     "output_type": "stream",
     "text": [
      "[0.2666368  0.36145071 0.10885156 0.26306093]\n",
      "Index(['age', 'fare', 'pclass', 'is_female'], dtype='object')\n"
     ]
    }
   ],
   "source": [
    "rf7 = RandomForestClassifier(random_state = 123, min_samples_leaf = 1, max_depth = 20)\n",
    "rf7.fit(X_train7, y_train)\n",
    "print(rf7.feature_importances_)\n",
    "print(X_train7.columns)"
   ]
  },
  {
   "cell_type": "code",
   "execution_count": 74,
   "metadata": {},
   "outputs": [
    {
     "name": "stdout",
     "output_type": "stream",
     "text": [
      "[0 1 0 1 1]\n"
     ]
    }
   ],
   "source": [
    "y_pred7 = rf7.predict(X_train7)\n",
    "print(y_pred7[0:5])"
   ]
  },
  {
   "cell_type": "code",
   "execution_count": 75,
   "metadata": {},
   "outputs": [
    {
     "name": "stdout",
     "output_type": "stream",
     "text": [
      "[[0.87 0.13]\n",
      " [0.   1.  ]\n",
      " [0.97 0.03]\n",
      " [0.01 0.99]\n",
      " [0.   1.  ]]\n"
     ]
    }
   ],
   "source": [
    "y_pred7_proba = rf7.predict_proba(X_train7)\n",
    "print(y_pred7_proba[0:5])"
   ]
  },
  {
   "cell_type": "markdown",
   "metadata": {},
   "source": [
    "### Q2. Evaluate your results using the model score, confusion matrix, and classification report."
   ]
  },
  {
   "cell_type": "code",
   "execution_count": 76,
   "metadata": {},
   "outputs": [
    {
     "name": "stdout",
     "output_type": "stream",
     "text": [
      "Accuracy of random forest classifier #7 on training set: 0.988\n"
     ]
    }
   ],
   "source": [
    "print('Accuracy of random forest classifier #7 on training set: {:.3f}'\n",
    "     .format(rf7.score(X_train7, y_train)))"
   ]
  },
  {
   "cell_type": "code",
   "execution_count": 77,
   "metadata": {},
   "outputs": [
    {
     "name": "stdout",
     "output_type": "stream",
     "text": [
      "[[305   2]\n",
      " [  4 186]]\n"
     ]
    }
   ],
   "source": [
    "print(confusion_matrix(y_train, y_pred7))"
   ]
  },
  {
   "cell_type": "code",
   "execution_count": 78,
   "metadata": {},
   "outputs": [
    {
     "name": "stdout",
     "output_type": "stream",
     "text": [
      "              precision    recall  f1-score   support\n",
      "\n",
      "           0       0.99      0.99      0.99       307\n",
      "           1       0.99      0.98      0.98       190\n",
      "\n",
      "    accuracy                           0.99       497\n",
      "   macro avg       0.99      0.99      0.99       497\n",
      "weighted avg       0.99      0.99      0.99       497\n",
      "\n"
     ]
    }
   ],
   "source": [
    "print(classification_report(y_train, y_pred7))"
   ]
  },
  {
   "cell_type": "markdown",
   "metadata": {},
   "source": [
    "### Q3. Print and clearly label the following: Accuracy, true positive rate, false positive rate, true negative rate, false negative rate, precision, recall, f1-score, and support."
   ]
  },
  {
   "cell_type": "code",
   "execution_count": 79,
   "metadata": {},
   "outputs": [
    {
     "name": "stdout",
     "output_type": "stream",
     "text": [
      "Positive is defined as dying (survival = 0)\n",
      "True positives: 305\n",
      "False negatives: 2\n",
      "False positives: 4\n",
      "True negatives: 186\n"
     ]
    }
   ],
   "source": [
    "print('Positive is defined as dying (survival = 0)')\n",
    "print_cm_details(y_pred7)"
   ]
  },
  {
   "cell_type": "code",
   "execution_count": 80,
   "metadata": {},
   "outputs": [
    {
     "name": "stdout",
     "output_type": "stream",
     "text": [
      "Accuracy of Random Forest classifier #7 on training set: 0.988\n",
      "F1 score of Random Forest classifier #7 on training set: 0.984\n"
     ]
    }
   ],
   "source": [
    "print('Accuracy of Random Forest classifier #7 on training set: {:.3f}'\n",
    "     .format(rf7.score(X_train7, y_train)))\n",
    "print('F1 score of Random Forest classifier #7 on training set: {:.3f}'\n",
    "     .format(f1_score(y_train, y_pred7)))"
   ]
  },
  {
   "cell_type": "markdown",
   "metadata": {},
   "source": [
    "### Q4. Run through steps increasing your min_samples_leaf to 5 and decreasing your max_depth to 3."
   ]
  },
  {
   "cell_type": "code",
   "execution_count": 81,
   "metadata": {},
   "outputs": [],
   "source": [
    "features = ['age', 'fare', 'pclass', 'is_female']\n",
    "target = ['survived']\n",
    "X_train8, y_train, X_validate8, y_validate, X_test8, y_test = feature_target_selector(features, target)"
   ]
  },
  {
   "cell_type": "code",
   "execution_count": 82,
   "metadata": {},
   "outputs": [
    {
     "name": "stdout",
     "output_type": "stream",
     "text": [
      "[0.06189287 0.17500253 0.19138647 0.57171813]\n",
      "Index(['age', 'fare', 'pclass', 'is_female'], dtype='object')\n"
     ]
    }
   ],
   "source": [
    "rf8 = RandomForestClassifier(random_state = 123, min_samples_leaf = 5, max_depth = 3)\n",
    "rf8.fit(X_train8, y_train)\n",
    "print(rf8.feature_importances_)\n",
    "print(X_train8.columns)"
   ]
  },
  {
   "cell_type": "code",
   "execution_count": 83,
   "metadata": {},
   "outputs": [
    {
     "name": "stdout",
     "output_type": "stream",
     "text": [
      "[0 1 0 1 1]\n"
     ]
    }
   ],
   "source": [
    "y_pred8 = rf8.predict(X_train8)\n",
    "print(y_pred8[0:5])"
   ]
  },
  {
   "cell_type": "code",
   "execution_count": 84,
   "metadata": {},
   "outputs": [
    {
     "name": "stdout",
     "output_type": "stream",
     "text": [
      "[[0.60729844 0.39270156]\n",
      " [0.05726486 0.94273514]\n",
      " [0.70789031 0.29210969]\n",
      " [0.06025362 0.93974638]\n",
      " [0.06002711 0.93997289]]\n"
     ]
    }
   ],
   "source": [
    "y_pred8_proba = rf8.predict_proba(X_train8)\n",
    "print(y_pred8_proba[0:5])"
   ]
  },
  {
   "cell_type": "code",
   "execution_count": 85,
   "metadata": {},
   "outputs": [
    {
     "name": "stdout",
     "output_type": "stream",
     "text": [
      "Accuracy of random forest classifier #8 on training set: 0.821\n"
     ]
    }
   ],
   "source": [
    "print('Accuracy of random forest classifier #8 on training set: {:.3f}'\n",
    "     .format(rf8.score(X_train8, y_train)))"
   ]
  },
  {
   "cell_type": "code",
   "execution_count": 86,
   "metadata": {},
   "outputs": [
    {
     "name": "stdout",
     "output_type": "stream",
     "text": [
      "[[291  16]\n",
      " [ 73 117]]\n"
     ]
    }
   ],
   "source": [
    "print(confusion_matrix(y_train, y_pred8))"
   ]
  },
  {
   "cell_type": "code",
   "execution_count": 87,
   "metadata": {},
   "outputs": [
    {
     "name": "stdout",
     "output_type": "stream",
     "text": [
      "              precision    recall  f1-score   support\n",
      "\n",
      "           0       0.80      0.95      0.87       307\n",
      "           1       0.88      0.62      0.72       190\n",
      "\n",
      "    accuracy                           0.82       497\n",
      "   macro avg       0.84      0.78      0.80       497\n",
      "weighted avg       0.83      0.82      0.81       497\n",
      "\n"
     ]
    }
   ],
   "source": [
    "print(classification_report(y_train, y_pred8))"
   ]
  },
  {
   "cell_type": "markdown",
   "metadata": {},
   "source": [
    "### Q5. What are the differences in the evaluation metrics? Which performs better on your in-sample data? Why?"
   ]
  },
  {
   "cell_type": "code",
   "execution_count": 88,
   "metadata": {},
   "outputs": [
    {
     "name": "stdout",
     "output_type": "stream",
     "text": [
      "Model 7: Random Forest - Train Performance - Min Samples Leaf = 1, Max Depth = 20\n",
      "Accuracy: 0.988\n",
      "[[305   2]\n",
      " [  4 186]]\n",
      "              precision    recall  f1-score   support\n",
      "\n",
      "           0       0.99      0.99      0.99       307\n",
      "           1       0.99      0.98      0.98       190\n",
      "\n",
      "    accuracy                           0.99       497\n",
      "   macro avg       0.99      0.99      0.99       497\n",
      "weighted avg       0.99      0.99      0.99       497\n",
      "\n"
     ]
    }
   ],
   "source": [
    "print(\"Model 7: Random Forest - Train Performance - Min Samples Leaf = 1, Max Depth = 20\")\n",
    "\n",
    "print('Accuracy: {:.3f}'.format(rf7.score(X_train7, y_train)))\n",
    "\n",
    "y_pred7 = rf7.predict(X_train7)\n",
    "\n",
    "print(confusion_matrix(y_train, y_pred7))\n",
    "\n",
    "print(classification_report(y_train, y_pred7))"
   ]
  },
  {
   "cell_type": "code",
   "execution_count": 89,
   "metadata": {},
   "outputs": [
    {
     "name": "stdout",
     "output_type": "stream",
     "text": [
      "Model 8: Random Forest - Train Performance - Min Samples Leaf = 1, Max Depth = 20\n",
      "Accuracy: 0.821\n",
      "[[291  16]\n",
      " [ 73 117]]\n",
      "              precision    recall  f1-score   support\n",
      "\n",
      "           0       0.80      0.95      0.87       307\n",
      "           1       0.88      0.62      0.72       190\n",
      "\n",
      "    accuracy                           0.82       497\n",
      "   macro avg       0.84      0.78      0.80       497\n",
      "weighted avg       0.83      0.82      0.81       497\n",
      "\n"
     ]
    }
   ],
   "source": [
    "print(\"Model 8: Random Forest - Train Performance - Min Samples Leaf = 5, Max Depth = 3\")\n",
    "\n",
    "print('Accuracy: {:.3f}'.format(rf8.score(X_train8, y_train)))\n",
    "\n",
    "y_pred8 = rf8.predict(X_train8)\n",
    "\n",
    "print(confusion_matrix(y_train, y_pred8))\n",
    "\n",
    "print(classification_report(y_train, y_pred8))"
   ]
  },
  {
   "cell_type": "markdown",
   "metadata": {},
   "source": [
    "Model 7 performs better on the train data because the increased depth and reduced min samples size for leaves allows for significantly more decision nodes within each tree generated. This results in a tighter fit of the model to the data, but may also risk overfitting. "
   ]
  },
  {
   "cell_type": "markdown",
   "metadata": {},
   "source": [
    "### Q6. Which one has the best performance (or closest metrics) on both train and validate?"
   ]
  },
  {
   "cell_type": "code",
   "execution_count": 90,
   "metadata": {},
   "outputs": [
    {
     "name": "stdout",
     "output_type": "stream",
     "text": [
      "Model 7: Random Forest - Validate Performance - Min Samples Leaf = 1, Max Depth = 20\n",
      "Accuracy: 0.813\n",
      "[[113  19]\n",
      " [ 21  61]]\n",
      "              precision    recall  f1-score   support\n",
      "\n",
      "           0       0.84      0.86      0.85       132\n",
      "           1       0.76      0.74      0.75        82\n",
      "\n",
      "    accuracy                           0.81       214\n",
      "   macro avg       0.80      0.80      0.80       214\n",
      "weighted avg       0.81      0.81      0.81       214\n",
      "\n"
     ]
    }
   ],
   "source": [
    "print(\"Model 7: Random Forest - Validate Performance - Min Samples Leaf = 1, Max Depth = 20\")\n",
    "\n",
    "print('Accuracy: {:.3f}'.format(rf7.score(X_validate7, y_validate)))\n",
    "\n",
    "y_pred7 = rf7.predict(X_validate7)\n",
    "\n",
    "print(confusion_matrix(y_validate, y_pred7))\n",
    "\n",
    "print(classification_report(y_validate, y_pred7))"
   ]
  },
  {
   "cell_type": "code",
   "execution_count": 91,
   "metadata": {},
   "outputs": [
    {
     "name": "stdout",
     "output_type": "stream",
     "text": [
      "Model 8: Random Forest - Validate Performance - Min Samples Leaf = 5, Max Depth = 3\n",
      "Accuracy: 0.785\n",
      "[[121  11]\n",
      " [ 35  47]]\n",
      "              precision    recall  f1-score   support\n",
      "\n",
      "           0       0.78      0.92      0.84       132\n",
      "           1       0.81      0.57      0.67        82\n",
      "\n",
      "    accuracy                           0.79       214\n",
      "   macro avg       0.79      0.74      0.76       214\n",
      "weighted avg       0.79      0.79      0.78       214\n",
      "\n"
     ]
    }
   ],
   "source": [
    "print(\"Model 8: Random Forest - Validate Performance - Min Samples Leaf = 5, Max Depth = 3\")\n",
    "\n",
    "print('Accuracy: {:.3f}'.format(rf8.score(X_validate8, y_validate)))\n",
    "\n",
    "y_pred8 = rf8.predict(X_validate8)\n",
    "\n",
    "print(confusion_matrix(y_validate, y_pred8))\n",
    "\n",
    "print(classification_report(y_validate, y_pred8))"
   ]
  },
  {
   "cell_type": "markdown",
   "metadata": {},
   "source": [
    "Model 7 still outperforms models 2 on the validate set, though performance drops substantially between train and validate. Model 8 performance drops only slightly between train and validate. "
   ]
  },
  {
   "cell_type": "markdown",
   "metadata": {},
   "source": [
    "# 4. K-Nearest Neighbors (KNN)\n",
    "\n",
    "### Q1. Fit a K-Nearest Neighbors classifier to your training sample and transform (i.e. make predictions on the training sample)"
   ]
  },
  {
   "cell_type": "code",
   "execution_count": 92,
   "metadata": {},
   "outputs": [],
   "source": [
    "features = ['age', 'fare', 'pclass', 'is_female']\n",
    "target = ['survived']\n",
    "X_train9, y_train, X_validate9, y_validate, X_test9, y_test = feature_target_selector(features, target)"
   ]
  },
  {
   "cell_type": "code",
   "execution_count": 93,
   "metadata": {},
   "outputs": [],
   "source": [
    "knn9 = KNeighborsClassifier(n_neighbors=5, weights='uniform')\n",
    "knn9.fit(X_train9, y_train)\n",
    "y_pred9 = knn9.predict(X_train9)\n",
    "y_pred9_proba = knn9.predict_proba(X_train9)"
   ]
  },
  {
   "cell_type": "markdown",
   "metadata": {},
   "source": [
    "### Q2. Evaluate your results using the model score, confusion matrix, and classification report."
   ]
  },
  {
   "cell_type": "code",
   "execution_count": 95,
   "metadata": {},
   "outputs": [
    {
     "name": "stdout",
     "output_type": "stream",
     "text": [
      "Accuracy of KNN classifier #9 on training set: 0.779\n"
     ]
    }
   ],
   "source": [
    "print('Accuracy of KNN classifier #9 on training set: {:.3f}'\n",
    "     .format(knn9.score(X_train9, y_train)))"
   ]
  },
  {
   "cell_type": "code",
   "execution_count": 96,
   "metadata": {},
   "outputs": [
    {
     "name": "stdout",
     "output_type": "stream",
     "text": [
      "[[260  47]\n",
      " [ 63 127]]\n"
     ]
    }
   ],
   "source": [
    "print(confusion_matrix(y_train, y_pred9))"
   ]
  },
  {
   "cell_type": "code",
   "execution_count": 97,
   "metadata": {},
   "outputs": [
    {
     "name": "stdout",
     "output_type": "stream",
     "text": [
      "              precision    recall  f1-score   support\n",
      "\n",
      "           0       0.80      0.85      0.83       307\n",
      "           1       0.73      0.67      0.70       190\n",
      "\n",
      "    accuracy                           0.78       497\n",
      "   macro avg       0.77      0.76      0.76       497\n",
      "weighted avg       0.78      0.78      0.78       497\n",
      "\n"
     ]
    }
   ],
   "source": [
    "print(classification_report(y_train, y_pred9))"
   ]
  },
  {
   "cell_type": "markdown",
   "metadata": {},
   "source": [
    "### Q3. Print and clearly label the following: Accuracy, true positive rate, false positive rate, true negative rate, false negative rate, precision, recall, f1-score, and support."
   ]
  },
  {
   "cell_type": "code",
   "execution_count": 98,
   "metadata": {},
   "outputs": [
    {
     "name": "stdout",
     "output_type": "stream",
     "text": [
      "Positive is defined as dying (survival = 0)\n",
      "True positives: 260\n",
      "False negatives: 47\n",
      "False positives: 63\n",
      "True negatives: 127\n"
     ]
    }
   ],
   "source": [
    "print('Positive is defined as dying (survival = 0)')\n",
    "print_cm_details(y_pred9)"
   ]
  },
  {
   "cell_type": "code",
   "execution_count": 99,
   "metadata": {},
   "outputs": [
    {
     "name": "stdout",
     "output_type": "stream",
     "text": [
      "Accuracy of KNN classifier #9 on training set: 0.988\n",
      "F1 score of KNN classifier #9 on training set: 0.698\n"
     ]
    }
   ],
   "source": [
    "print('Accuracy of KNN classifier #9 on training set: {:.3f}'\n",
    "     .format(rf7.score(X_train9, y_train)))\n",
    "print('F1 score of KNN classifier #9 on training set: {:.3f}'\n",
    "     .format(f1_score(y_train, y_pred9)))"
   ]
  },
  {
   "cell_type": "markdown",
   "metadata": {},
   "source": [
    "### Q4. Run through steps 2-4 setting k to 10"
   ]
  },
  {
   "cell_type": "code",
   "execution_count": 100,
   "metadata": {},
   "outputs": [],
   "source": [
    "features = ['age', 'fare', 'pclass', 'is_female']\n",
    "target = ['survived']\n",
    "X_train10, y_train, X_validate10, y_validate, X_test10, y_test = feature_target_selector(features, target)"
   ]
  },
  {
   "cell_type": "code",
   "execution_count": 101,
   "metadata": {},
   "outputs": [],
   "source": [
    "knn10 = KNeighborsClassifier(n_neighbors=10, weights='uniform')\n",
    "knn10.fit(X_train10, y_train)\n",
    "y_pred10 = knn10.predict(X_train10)\n",
    "y_pred10_proba = knn10.predict_proba(X_train10)"
   ]
  },
  {
   "cell_type": "code",
   "execution_count": 102,
   "metadata": {},
   "outputs": [
    {
     "name": "stdout",
     "output_type": "stream",
     "text": [
      "Accuracy of KNN classifier #10 on training set: 0.757\n"
     ]
    }
   ],
   "source": [
    "print('Accuracy of KNN classifier #10 on training set: {:.3f}'\n",
    "     .format(knn10.score(X_train10, y_train)))"
   ]
  },
  {
   "cell_type": "code",
   "execution_count": 103,
   "metadata": {},
   "outputs": [
    {
     "name": "stdout",
     "output_type": "stream",
     "text": [
      "[[278  29]\n",
      " [ 92  98]]\n"
     ]
    }
   ],
   "source": [
    "print(confusion_matrix(y_train, y_pred10))"
   ]
  },
  {
   "cell_type": "code",
   "execution_count": 104,
   "metadata": {},
   "outputs": [
    {
     "name": "stdout",
     "output_type": "stream",
     "text": [
      "              precision    recall  f1-score   support\n",
      "\n",
      "           0       0.75      0.91      0.82       307\n",
      "           1       0.77      0.52      0.62       190\n",
      "\n",
      "    accuracy                           0.76       497\n",
      "   macro avg       0.76      0.71      0.72       497\n",
      "weighted avg       0.76      0.76      0.74       497\n",
      "\n"
     ]
    }
   ],
   "source": [
    "print(classification_report(y_train, y_pred10))"
   ]
  },
  {
   "cell_type": "code",
   "execution_count": 105,
   "metadata": {},
   "outputs": [
    {
     "name": "stdout",
     "output_type": "stream",
     "text": [
      "Positive is defined as dying (survival = 0)\n",
      "True positives: 278\n",
      "False negatives: 29\n",
      "False positives: 92\n",
      "True negatives: 98\n"
     ]
    }
   ],
   "source": [
    "print('Positive is defined as dying (survival = 0)')\n",
    "print_cm_details(y_pred10)"
   ]
  },
  {
   "cell_type": "code",
   "execution_count": 106,
   "metadata": {},
   "outputs": [
    {
     "name": "stdout",
     "output_type": "stream",
     "text": [
      "F1 score of KNN classifier #10 on training set: 0.618\n"
     ]
    }
   ],
   "source": [
    "print('F1 score of KNN classifier #10 on training set: {:.3f}'\n",
    "     .format(f1_score(y_train, y_pred10)))"
   ]
  },
  {
   "cell_type": "markdown",
   "metadata": {},
   "source": [
    "### Q5. Run through steps 2-4 setting k to 20"
   ]
  },
  {
   "cell_type": "code",
   "execution_count": 107,
   "metadata": {},
   "outputs": [],
   "source": [
    "features = ['age', 'fare', 'pclass', 'is_female']\n",
    "target = ['survived']\n",
    "X_train11, y_train, X_validate11, y_validate, X_test11, y_test = feature_target_selector(features, target)"
   ]
  },
  {
   "cell_type": "code",
   "execution_count": 109,
   "metadata": {},
   "outputs": [],
   "source": [
    "knn11 = KNeighborsClassifier(n_neighbors=20, weights='uniform')\n",
    "knn11.fit(X_train11, y_train)\n",
    "y_pred11 = knn11.predict(X_train11)\n",
    "y_pred11_proba = knn11.predict_proba(X_train11)"
   ]
  },
  {
   "cell_type": "code",
   "execution_count": 110,
   "metadata": {},
   "outputs": [
    {
     "name": "stdout",
     "output_type": "stream",
     "text": [
      "Accuracy of KNN classifier #11 on training set: 0.718\n"
     ]
    }
   ],
   "source": [
    "print('Accuracy of KNN classifier #11 on training set: {:.3f}'\n",
    "     .format(knn11.score(X_train11, y_train)))"
   ]
  },
  {
   "cell_type": "code",
   "execution_count": 111,
   "metadata": {},
   "outputs": [
    {
     "name": "stdout",
     "output_type": "stream",
     "text": [
      "[[281  26]\n",
      " [114  76]]\n"
     ]
    }
   ],
   "source": [
    "print(confusion_matrix(y_train, y_pred11))"
   ]
  },
  {
   "cell_type": "code",
   "execution_count": 112,
   "metadata": {},
   "outputs": [
    {
     "name": "stdout",
     "output_type": "stream",
     "text": [
      "              precision    recall  f1-score   support\n",
      "\n",
      "           0       0.71      0.92      0.80       307\n",
      "           1       0.75      0.40      0.52       190\n",
      "\n",
      "    accuracy                           0.72       497\n",
      "   macro avg       0.73      0.66      0.66       497\n",
      "weighted avg       0.72      0.72      0.69       497\n",
      "\n"
     ]
    }
   ],
   "source": [
    "print(classification_report(y_train, y_pred11))"
   ]
  },
  {
   "cell_type": "code",
   "execution_count": 113,
   "metadata": {},
   "outputs": [
    {
     "name": "stdout",
     "output_type": "stream",
     "text": [
      "Positive is defined as dying (survival = 0)\n",
      "True positives: 281\n",
      "False negatives: 26\n",
      "False positives: 114\n",
      "True negatives: 76\n"
     ]
    }
   ],
   "source": [
    "print('Positive is defined as dying (survival = 0)')\n",
    "print_cm_details(y_pred11)"
   ]
  },
  {
   "cell_type": "code",
   "execution_count": 116,
   "metadata": {},
   "outputs": [
    {
     "name": "stdout",
     "output_type": "stream",
     "text": [
      "F1 score of KNN classifier #11 on training set: 0.521\n"
     ]
    }
   ],
   "source": [
    "print('F1 score of KNN classifier #11 on training set: {:.3f}'\n",
    "     .format(f1_score(y_pred11, y_train)))"
   ]
  },
  {
   "cell_type": "markdown",
   "metadata": {},
   "source": [
    "### Q6. What are the differences in the evaluation metrics? Which performs better on your in-sample data? Why?"
   ]
  },
  {
   "cell_type": "code",
   "execution_count": 117,
   "metadata": {},
   "outputs": [
    {
     "name": "stdout",
     "output_type": "stream",
     "text": [
      "KNN (k = 5)\n",
      "              precision    recall  f1-score   support\n",
      "\n",
      "           0       0.80      0.85      0.83       307\n",
      "           1       0.73      0.67      0.70       190\n",
      "\n",
      "    accuracy                           0.78       497\n",
      "   macro avg       0.77      0.76      0.76       497\n",
      "weighted avg       0.78      0.78      0.78       497\n",
      "\n",
      "KNN (k = 10)\n",
      "              precision    recall  f1-score   support\n",
      "\n",
      "           0       0.75      0.91      0.82       307\n",
      "           1       0.77      0.52      0.62       190\n",
      "\n",
      "    accuracy                           0.76       497\n",
      "   macro avg       0.76      0.71      0.72       497\n",
      "weighted avg       0.76      0.76      0.74       497\n",
      "\n",
      "KNN (k = 20)\n",
      "              precision    recall  f1-score   support\n",
      "\n",
      "           0       0.71      0.92      0.80       307\n",
      "           1       0.75      0.40      0.52       190\n",
      "\n",
      "    accuracy                           0.72       497\n",
      "   macro avg       0.73      0.66      0.66       497\n",
      "weighted avg       0.72      0.72      0.69       497\n",
      "\n"
     ]
    }
   ],
   "source": [
    "print(\"KNN (k = 5)\")\n",
    "print(classification_report(y_train, y_pred9))\n",
    "print(\"KNN (k = 10)\")\n",
    "print(classification_report(y_train, y_pred10))\n",
    "print(\"KNN (k = 20)\")\n",
    "print(classification_report(y_train, y_pred11))"
   ]
  },
  {
   "cell_type": "code",
   "execution_count": 118,
   "metadata": {},
   "outputs": [],
   "source": [
    "# As k increases, performance in both accuracy and f1 score on the training data set decrease\n",
    "# This is likely do to overfitting when k is small\n",
    "# When k is small, the model will rely more heavily on small variations in the training data set\n",
    "# While this will improve train performance, it will likely result in a model that is overfit and performs worse on out-of-sample data"
   ]
  },
  {
   "cell_type": "markdown",
   "metadata": {},
   "source": [
    "### Q7. Which model performs best on our out-of-sample data from validate?"
   ]
  },
  {
   "cell_type": "code",
   "execution_count": 119,
   "metadata": {},
   "outputs": [
    {
     "name": "stdout",
     "output_type": "stream",
     "text": [
      "Model 9: KNN - Validate Performance - k = 5\n",
      "Accuracy: 0.724\n",
      "[[104  28]\n",
      " [ 31  51]]\n",
      "              precision    recall  f1-score   support\n",
      "\n",
      "           0       0.77      0.79      0.78       132\n",
      "           1       0.65      0.62      0.63        82\n",
      "\n",
      "    accuracy                           0.72       214\n",
      "   macro avg       0.71      0.70      0.71       214\n",
      "weighted avg       0.72      0.72      0.72       214\n",
      "\n"
     ]
    }
   ],
   "source": [
    "print(\"Model 9: KNN - Validate Performance - k = 5\")\n",
    "\n",
    "print('Accuracy: {:.3f}'.format(knn9.score(X_validate9, y_validate)))\n",
    "\n",
    "y_pred9 = knn9.predict(X_validate9)\n",
    "\n",
    "print(confusion_matrix(y_validate, y_pred9))\n",
    "\n",
    "print(classification_report(y_validate, y_pred9))"
   ]
  },
  {
   "cell_type": "code",
   "execution_count": 120,
   "metadata": {},
   "outputs": [
    {
     "name": "stdout",
     "output_type": "stream",
     "text": [
      "Model 10: KNN - Validate Performance - k = 10\n",
      "Accuracy: 0.687\n",
      "[[110  22]\n",
      " [ 45  37]]\n",
      "              precision    recall  f1-score   support\n",
      "\n",
      "           0       0.71      0.83      0.77       132\n",
      "           1       0.63      0.45      0.52        82\n",
      "\n",
      "    accuracy                           0.69       214\n",
      "   macro avg       0.67      0.64      0.65       214\n",
      "weighted avg       0.68      0.69      0.67       214\n",
      "\n"
     ]
    }
   ],
   "source": [
    "print(\"Model 10: KNN - Validate Performance - k = 10\")\n",
    "\n",
    "print('Accuracy: {:.3f}'.format(knn10.score(X_validate10, y_validate)))\n",
    "\n",
    "y_pred10 = knn10.predict(X_validate10)\n",
    "\n",
    "print(confusion_matrix(y_validate, y_pred10))\n",
    "\n",
    "print(classification_report(y_validate, y_pred10))"
   ]
  },
  {
   "cell_type": "code",
   "execution_count": 121,
   "metadata": {},
   "outputs": [
    {
     "name": "stdout",
     "output_type": "stream",
     "text": [
      "Model 11: KNN - Validate Performance - k = 20\n",
      "Accuracy: 0.706\n",
      "[[117  15]\n",
      " [ 48  34]]\n",
      "              precision    recall  f1-score   support\n",
      "\n",
      "           0       0.71      0.89      0.79       132\n",
      "           1       0.69      0.41      0.52        82\n",
      "\n",
      "    accuracy                           0.71       214\n",
      "   macro avg       0.70      0.65      0.65       214\n",
      "weighted avg       0.70      0.71      0.68       214\n",
      "\n"
     ]
    }
   ],
   "source": [
    "print(\"Model 11: KNN - Validate Performance - k = 20\")\n",
    "\n",
    "print('Accuracy: {:.3f}'.format(knn11.score(X_validate11, y_validate)))\n",
    "\n",
    "y_pred11 = knn11.predict(X_validate11)\n",
    "\n",
    "print(confusion_matrix(y_validate, y_pred11))\n",
    "\n",
    "print(classification_report(y_validate, y_pred11))"
   ]
  },
  {
   "cell_type": "code",
   "execution_count": 122,
   "metadata": {},
   "outputs": [],
   "source": [
    "# Of the three samples, Model 9 has the highest accuracy, and model 11 has the highest f1-score\n",
    "# Model 10 has both the lowest accuracy and the lowest f1 score\n",
    "# Because model 11's accuracy is only slightly lower than model 9, recommendation would be to use model 11 on test set"
   ]
  },
  {
   "cell_type": "markdown",
   "metadata": {},
   "source": [
    "## Test\n",
    "For both the iris and the titanic data:"
   ]
  },
  {
   "cell_type": "markdown",
   "metadata": {},
   "source": [
    "### Q1. Determine which model (with hyperparameters) performs the best (try reducing the number of features to the top 4 features in terms of information gained for each feature individually)."
   ]
  },
  {
   "cell_type": "code",
   "execution_count": null,
   "metadata": {},
   "outputs": [],
   "source": []
  },
  {
   "cell_type": "markdown",
   "metadata": {},
   "source": [
    "### Q2. Create a new dataframe with top 4 features."
   ]
  },
  {
   "cell_type": "code",
   "execution_count": null,
   "metadata": {},
   "outputs": [],
   "source": []
  },
  {
   "cell_type": "markdown",
   "metadata": {},
   "source": [
    "### Q3. Use the top performing algorithm with the metaparameters used in that model. Create the object, fit, transform on in-sample data, and evaluate the results with the training data. Compare your evaluation metrics with those from the original model (with all the features)."
   ]
  },
  {
   "cell_type": "code",
   "execution_count": null,
   "metadata": {},
   "outputs": [],
   "source": []
  },
  {
   "cell_type": "markdown",
   "metadata": {},
   "source": [
    "### Q4. Run your final model on your out-of-sample dataframe (test_df). Evaluate the results."
   ]
  },
  {
   "cell_type": "code",
   "execution_count": null,
   "metadata": {},
   "outputs": [],
   "source": []
  },
  {
   "cell_type": "markdown",
   "metadata": {},
   "source": [
    "## Feature Engineering (KNN)\n",
    "### Titanic Data\n",
    "### Q1. Create a feature named `who`, this should be either man, woman, or child. How does including this feature affect your model's performance?"
   ]
  },
  {
   "cell_type": "code",
   "execution_count": null,
   "metadata": {},
   "outputs": [],
   "source": []
  },
  {
   "cell_type": "markdown",
   "metadata": {},
   "source": [
    "### Q2. Create a feature named `adult_male` that is either a `1` or a `0`. How does this affect your model's predictions?"
   ]
  },
  {
   "cell_type": "code",
   "execution_count": null,
   "metadata": {},
   "outputs": [],
   "source": []
  },
  {
   "cell_type": "markdown",
   "metadata": {},
   "source": [
    "### Iris Data\n",
    "### Q1. Create features named `petal_area` and `sepal_area`. How does this affect your model's predictions?"
   ]
  },
  {
   "cell_type": "code",
   "execution_count": null,
   "metadata": {},
   "outputs": [],
   "source": []
  }
 ],
 "metadata": {
  "kernelspec": {
   "display_name": "Python 3",
   "language": "python",
   "name": "python3"
  },
  "language_info": {
   "codemirror_mode": {
    "name": "ipython",
    "version": 3
   },
   "file_extension": ".py",
   "mimetype": "text/x-python",
   "name": "python",
   "nbconvert_exporter": "python",
   "pygments_lexer": "ipython3",
   "version": "3.7.6"
  }
 },
 "nbformat": 4,
 "nbformat_minor": 4
}
